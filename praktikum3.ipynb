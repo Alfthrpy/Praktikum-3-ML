{
 "cells": [
  {
   "cell_type": "markdown",
   "metadata": {},
   "source": [
    "# Load Dataset"
   ]
  },
  {
   "cell_type": "code",
   "execution_count": 5,
   "metadata": {},
   "outputs": [],
   "source": [
    "import kagglehub\n",
    "import pandas as pd\n",
    "import matplotlib.pyplot as plt\n",
    "import seaborn as sns"
   ]
  },
  {
   "cell_type": "code",
   "execution_count": 21,
   "metadata": {},
   "outputs": [
    {
     "name": "stdout",
     "output_type": "stream",
     "text": [
      "Path to dataset files: C:\\Users\\alfth\\.cache\\kagglehub\\datasets\\halaturkialotaibi\\coffee-bean-sales-dataset\\versions\\2\n"
     ]
    }
   ],
   "source": [
    "\n",
    "# Download latest version\n",
    "path = kagglehub.dataset_download(\"halaturkialotaibi/coffee-bean-sales-dataset\")\n",
    "\n",
    "print(\"Path to dataset files:\", path)\n",
    "df = pd.read_csv(path + \"/DatasetForCoffeeSales2.csv\")"
   ]
  },
  {
   "cell_type": "code",
   "execution_count": 22,
   "metadata": {},
   "outputs": [
    {
     "data": {
      "text/html": [
       "<div>\n",
       "<style scoped>\n",
       "    .dataframe tbody tr th:only-of-type {\n",
       "        vertical-align: middle;\n",
       "    }\n",
       "\n",
       "    .dataframe tbody tr th {\n",
       "        vertical-align: top;\n",
       "    }\n",
       "\n",
       "    .dataframe thead th {\n",
       "        text-align: right;\n",
       "    }\n",
       "</style>\n",
       "<table border=\"1\" class=\"dataframe\">\n",
       "  <thead>\n",
       "    <tr style=\"text-align: right;\">\n",
       "      <th></th>\n",
       "      <th>Date</th>\n",
       "      <th>Customer_ID</th>\n",
       "      <th>City</th>\n",
       "      <th>Category</th>\n",
       "      <th>Product</th>\n",
       "      <th>Unit Price</th>\n",
       "      <th>Quantity</th>\n",
       "      <th>Sales Amount</th>\n",
       "      <th>Used_Discount</th>\n",
       "      <th>Discount_Amount</th>\n",
       "      <th>Final Sales</th>\n",
       "    </tr>\n",
       "  </thead>\n",
       "  <tbody>\n",
       "    <tr>\n",
       "      <th>0</th>\n",
       "      <td>1/1/2023</td>\n",
       "      <td>32</td>\n",
       "      <td>Riyadh</td>\n",
       "      <td>coffee beans</td>\n",
       "      <td>Colombian</td>\n",
       "      <td>40</td>\n",
       "      <td>14</td>\n",
       "      <td>560</td>\n",
       "      <td>False</td>\n",
       "      <td>0</td>\n",
       "      <td>560</td>\n",
       "    </tr>\n",
       "    <tr>\n",
       "      <th>1</th>\n",
       "      <td>1/2/2023</td>\n",
       "      <td>49</td>\n",
       "      <td>Abha</td>\n",
       "      <td>coffee beans</td>\n",
       "      <td>Costa Rica</td>\n",
       "      <td>35</td>\n",
       "      <td>17</td>\n",
       "      <td>595</td>\n",
       "      <td>False</td>\n",
       "      <td>0</td>\n",
       "      <td>595</td>\n",
       "    </tr>\n",
       "    <tr>\n",
       "      <th>2</th>\n",
       "      <td>1/3/2023</td>\n",
       "      <td>75</td>\n",
       "      <td>Tabuk</td>\n",
       "      <td>coffee beans</td>\n",
       "      <td>Costa Rica</td>\n",
       "      <td>35</td>\n",
       "      <td>19</td>\n",
       "      <td>665</td>\n",
       "      <td>False</td>\n",
       "      <td>0</td>\n",
       "      <td>665</td>\n",
       "    </tr>\n",
       "    <tr>\n",
       "      <th>3</th>\n",
       "      <td>1/4/2023</td>\n",
       "      <td>80</td>\n",
       "      <td>Abha</td>\n",
       "      <td>coffee beans</td>\n",
       "      <td>Ethiopian</td>\n",
       "      <td>45</td>\n",
       "      <td>1</td>\n",
       "      <td>45</td>\n",
       "      <td>False</td>\n",
       "      <td>0</td>\n",
       "      <td>45</td>\n",
       "    </tr>\n",
       "    <tr>\n",
       "      <th>4</th>\n",
       "      <td>1/5/2023</td>\n",
       "      <td>78</td>\n",
       "      <td>Hail</td>\n",
       "      <td>coffee beans</td>\n",
       "      <td>Colombian</td>\n",
       "      <td>40</td>\n",
       "      <td>46</td>\n",
       "      <td>1840</td>\n",
       "      <td>True</td>\n",
       "      <td>368</td>\n",
       "      <td>1472</td>\n",
       "    </tr>\n",
       "    <tr>\n",
       "      <th>...</th>\n",
       "      <td>...</td>\n",
       "      <td>...</td>\n",
       "      <td>...</td>\n",
       "      <td>...</td>\n",
       "      <td>...</td>\n",
       "      <td>...</td>\n",
       "      <td>...</td>\n",
       "      <td>...</td>\n",
       "      <td>...</td>\n",
       "      <td>...</td>\n",
       "      <td>...</td>\n",
       "    </tr>\n",
       "    <tr>\n",
       "      <th>725</th>\n",
       "      <td>12/26/2024</td>\n",
       "      <td>4</td>\n",
       "      <td>Hail</td>\n",
       "      <td>coffee beans</td>\n",
       "      <td>Colombian</td>\n",
       "      <td>40</td>\n",
       "      <td>26</td>\n",
       "      <td>1040</td>\n",
       "      <td>False</td>\n",
       "      <td>0</td>\n",
       "      <td>1040</td>\n",
       "    </tr>\n",
       "    <tr>\n",
       "      <th>726</th>\n",
       "      <td>12/27/2024</td>\n",
       "      <td>63</td>\n",
       "      <td>Mecca</td>\n",
       "      <td>coffee beans</td>\n",
       "      <td>Colombian</td>\n",
       "      <td>40</td>\n",
       "      <td>10</td>\n",
       "      <td>400</td>\n",
       "      <td>False</td>\n",
       "      <td>0</td>\n",
       "      <td>400</td>\n",
       "    </tr>\n",
       "    <tr>\n",
       "      <th>727</th>\n",
       "      <td>12/28/2024</td>\n",
       "      <td>39</td>\n",
       "      <td>Abha</td>\n",
       "      <td>coffee beans</td>\n",
       "      <td>Costa Rica</td>\n",
       "      <td>35</td>\n",
       "      <td>47</td>\n",
       "      <td>1645</td>\n",
       "      <td>False</td>\n",
       "      <td>0</td>\n",
       "      <td>1645</td>\n",
       "    </tr>\n",
       "    <tr>\n",
       "      <th>728</th>\n",
       "      <td>12/29/2024</td>\n",
       "      <td>57</td>\n",
       "      <td>Tabuk</td>\n",
       "      <td>coffee beans</td>\n",
       "      <td>Ethiopian</td>\n",
       "      <td>45</td>\n",
       "      <td>3</td>\n",
       "      <td>135</td>\n",
       "      <td>True</td>\n",
       "      <td>27</td>\n",
       "      <td>108</td>\n",
       "    </tr>\n",
       "    <tr>\n",
       "      <th>729</th>\n",
       "      <td>12/30/2024</td>\n",
       "      <td>50</td>\n",
       "      <td>Medina</td>\n",
       "      <td>coffee beans</td>\n",
       "      <td>Brazilian</td>\n",
       "      <td>30</td>\n",
       "      <td>33</td>\n",
       "      <td>990</td>\n",
       "      <td>True</td>\n",
       "      <td>198</td>\n",
       "      <td>792</td>\n",
       "    </tr>\n",
       "  </tbody>\n",
       "</table>\n",
       "<p>730 rows × 11 columns</p>\n",
       "</div>"
      ],
      "text/plain": [
       "           Date  Customer_ID    City      Category     Product  Unit Price  \\\n",
       "0      1/1/2023           32  Riyadh  coffee beans   Colombian          40   \n",
       "1      1/2/2023           49    Abha  coffee beans  Costa Rica          35   \n",
       "2      1/3/2023           75   Tabuk  coffee beans  Costa Rica          35   \n",
       "3      1/4/2023           80    Abha  coffee beans   Ethiopian          45   \n",
       "4      1/5/2023           78    Hail  coffee beans   Colombian          40   \n",
       "..          ...          ...     ...           ...         ...         ...   \n",
       "725  12/26/2024            4    Hail  coffee beans   Colombian          40   \n",
       "726  12/27/2024           63   Mecca  coffee beans   Colombian          40   \n",
       "727  12/28/2024           39    Abha  coffee beans  Costa Rica          35   \n",
       "728  12/29/2024           57   Tabuk  coffee beans   Ethiopian          45   \n",
       "729  12/30/2024           50  Medina  coffee beans   Brazilian          30   \n",
       "\n",
       "     Quantity  Sales Amount  Used_Discount  Discount_Amount  Final Sales  \n",
       "0          14           560          False                0          560  \n",
       "1          17           595          False                0          595  \n",
       "2          19           665          False                0          665  \n",
       "3           1            45          False                0           45  \n",
       "4          46          1840           True              368         1472  \n",
       "..        ...           ...            ...              ...          ...  \n",
       "725        26          1040          False                0         1040  \n",
       "726        10           400          False                0          400  \n",
       "727        47          1645          False                0         1645  \n",
       "728         3           135           True               27          108  \n",
       "729        33           990           True              198          792  \n",
       "\n",
       "[730 rows x 11 columns]"
      ]
     },
     "execution_count": 22,
     "metadata": {},
     "output_type": "execute_result"
    }
   ],
   "source": [
    "df"
   ]
  },
  {
   "cell_type": "markdown",
   "metadata": {},
   "source": [
    "## Jenis data dalam dataset"
   ]
  },
  {
   "cell_type": "code",
   "execution_count": 23,
   "metadata": {},
   "outputs": [
    {
     "name": "stdout",
     "output_type": "stream",
     "text": [
      "<class 'pandas.core.frame.DataFrame'>\n",
      "RangeIndex: 730 entries, 0 to 729\n",
      "Data columns (total 11 columns):\n",
      " #   Column           Non-Null Count  Dtype \n",
      "---  ------           --------------  ----- \n",
      " 0   Date             730 non-null    object\n",
      " 1   Customer_ID      730 non-null    int64 \n",
      " 2   City             730 non-null    object\n",
      " 3   Category         730 non-null    object\n",
      " 4   Product          730 non-null    object\n",
      " 5   Unit Price       730 non-null    int64 \n",
      " 6   Quantity         730 non-null    int64 \n",
      " 7   Sales Amount     730 non-null    int64 \n",
      " 8   Used_Discount    730 non-null    bool  \n",
      " 9   Discount_Amount  730 non-null    int64 \n",
      " 10  Final Sales      730 non-null    int64 \n",
      "dtypes: bool(1), int64(6), object(4)\n",
      "memory usage: 57.9+ KB\n"
     ]
    }
   ],
   "source": [
    "df.info()"
   ]
  },
  {
   "cell_type": "markdown",
   "metadata": {},
   "source": [
    "Analisis Jenis Dataset : \n",
    "- Time Series       : Kolom _Date_\n",
    "- Category Nominal  : Kolom _City_,_Category_,_Product_\n",
    "- Numerical         : Kolom _Customer ID_,_Unit Price_,_Quantity_,_Sales Amount_,_Used Discount_,_Discount Amount_,_Final Sales_  "
   ]
  },
  {
   "cell_type": "markdown",
   "metadata": {},
   "source": [
    "# EDA"
   ]
  },
  {
   "cell_type": "code",
   "execution_count": 24,
   "metadata": {},
   "outputs": [
    {
     "data": {
      "text/html": [
       "<div>\n",
       "<style scoped>\n",
       "    .dataframe tbody tr th:only-of-type {\n",
       "        vertical-align: middle;\n",
       "    }\n",
       "\n",
       "    .dataframe tbody tr th {\n",
       "        vertical-align: top;\n",
       "    }\n",
       "\n",
       "    .dataframe thead th {\n",
       "        text-align: right;\n",
       "    }\n",
       "</style>\n",
       "<table border=\"1\" class=\"dataframe\">\n",
       "  <thead>\n",
       "    <tr style=\"text-align: right;\">\n",
       "      <th></th>\n",
       "      <th>Date</th>\n",
       "      <th>Customer_ID</th>\n",
       "      <th>City</th>\n",
       "      <th>Category</th>\n",
       "      <th>Product</th>\n",
       "      <th>Unit Price</th>\n",
       "      <th>Quantity</th>\n",
       "      <th>Sales Amount</th>\n",
       "      <th>Used_Discount</th>\n",
       "      <th>Discount_Amount</th>\n",
       "      <th>Final Sales</th>\n",
       "    </tr>\n",
       "  </thead>\n",
       "  <tbody>\n",
       "    <tr>\n",
       "      <th>0</th>\n",
       "      <td>1/1/2023</td>\n",
       "      <td>32</td>\n",
       "      <td>Riyadh</td>\n",
       "      <td>coffee beans</td>\n",
       "      <td>Colombian</td>\n",
       "      <td>40</td>\n",
       "      <td>14</td>\n",
       "      <td>560</td>\n",
       "      <td>False</td>\n",
       "      <td>0</td>\n",
       "      <td>560</td>\n",
       "    </tr>\n",
       "    <tr>\n",
       "      <th>1</th>\n",
       "      <td>1/2/2023</td>\n",
       "      <td>49</td>\n",
       "      <td>Abha</td>\n",
       "      <td>coffee beans</td>\n",
       "      <td>Costa Rica</td>\n",
       "      <td>35</td>\n",
       "      <td>17</td>\n",
       "      <td>595</td>\n",
       "      <td>False</td>\n",
       "      <td>0</td>\n",
       "      <td>595</td>\n",
       "    </tr>\n",
       "    <tr>\n",
       "      <th>2</th>\n",
       "      <td>1/3/2023</td>\n",
       "      <td>75</td>\n",
       "      <td>Tabuk</td>\n",
       "      <td>coffee beans</td>\n",
       "      <td>Costa Rica</td>\n",
       "      <td>35</td>\n",
       "      <td>19</td>\n",
       "      <td>665</td>\n",
       "      <td>False</td>\n",
       "      <td>0</td>\n",
       "      <td>665</td>\n",
       "    </tr>\n",
       "    <tr>\n",
       "      <th>3</th>\n",
       "      <td>1/4/2023</td>\n",
       "      <td>80</td>\n",
       "      <td>Abha</td>\n",
       "      <td>coffee beans</td>\n",
       "      <td>Ethiopian</td>\n",
       "      <td>45</td>\n",
       "      <td>1</td>\n",
       "      <td>45</td>\n",
       "      <td>False</td>\n",
       "      <td>0</td>\n",
       "      <td>45</td>\n",
       "    </tr>\n",
       "    <tr>\n",
       "      <th>4</th>\n",
       "      <td>1/5/2023</td>\n",
       "      <td>78</td>\n",
       "      <td>Hail</td>\n",
       "      <td>coffee beans</td>\n",
       "      <td>Colombian</td>\n",
       "      <td>40</td>\n",
       "      <td>46</td>\n",
       "      <td>1840</td>\n",
       "      <td>True</td>\n",
       "      <td>368</td>\n",
       "      <td>1472</td>\n",
       "    </tr>\n",
       "    <tr>\n",
       "      <th>5</th>\n",
       "      <td>1/6/2023</td>\n",
       "      <td>1</td>\n",
       "      <td>Khobar</td>\n",
       "      <td>coffee beans</td>\n",
       "      <td>Colombian</td>\n",
       "      <td>40</td>\n",
       "      <td>32</td>\n",
       "      <td>1280</td>\n",
       "      <td>True</td>\n",
       "      <td>256</td>\n",
       "      <td>1024</td>\n",
       "    </tr>\n",
       "    <tr>\n",
       "      <th>6</th>\n",
       "      <td>1/7/2023</td>\n",
       "      <td>95</td>\n",
       "      <td>Buraidah</td>\n",
       "      <td>coffee beans</td>\n",
       "      <td>Brazilian</td>\n",
       "      <td>30</td>\n",
       "      <td>1</td>\n",
       "      <td>30</td>\n",
       "      <td>True</td>\n",
       "      <td>6</td>\n",
       "      <td>24</td>\n",
       "    </tr>\n",
       "    <tr>\n",
       "      <th>7</th>\n",
       "      <td>1/8/2023</td>\n",
       "      <td>27</td>\n",
       "      <td>Medina</td>\n",
       "      <td>coffee beans</td>\n",
       "      <td>Colombian</td>\n",
       "      <td>40</td>\n",
       "      <td>33</td>\n",
       "      <td>1320</td>\n",
       "      <td>False</td>\n",
       "      <td>0</td>\n",
       "      <td>1320</td>\n",
       "    </tr>\n",
       "    <tr>\n",
       "      <th>8</th>\n",
       "      <td>1/9/2023</td>\n",
       "      <td>73</td>\n",
       "      <td>Hail</td>\n",
       "      <td>coffee beans</td>\n",
       "      <td>Guatemala</td>\n",
       "      <td>35</td>\n",
       "      <td>47</td>\n",
       "      <td>1645</td>\n",
       "      <td>False</td>\n",
       "      <td>0</td>\n",
       "      <td>1645</td>\n",
       "    </tr>\n",
       "    <tr>\n",
       "      <th>9</th>\n",
       "      <td>1/10/2023</td>\n",
       "      <td>82</td>\n",
       "      <td>Dammam</td>\n",
       "      <td>coffee beans</td>\n",
       "      <td>Costa Rica</td>\n",
       "      <td>35</td>\n",
       "      <td>4</td>\n",
       "      <td>140</td>\n",
       "      <td>False</td>\n",
       "      <td>0</td>\n",
       "      <td>140</td>\n",
       "    </tr>\n",
       "  </tbody>\n",
       "</table>\n",
       "</div>"
      ],
      "text/plain": [
       "        Date  Customer_ID      City      Category     Product  Unit Price  \\\n",
       "0   1/1/2023           32    Riyadh  coffee beans   Colombian          40   \n",
       "1   1/2/2023           49      Abha  coffee beans  Costa Rica          35   \n",
       "2   1/3/2023           75     Tabuk  coffee beans  Costa Rica          35   \n",
       "3   1/4/2023           80      Abha  coffee beans   Ethiopian          45   \n",
       "4   1/5/2023           78      Hail  coffee beans   Colombian          40   \n",
       "5   1/6/2023            1    Khobar  coffee beans   Colombian          40   \n",
       "6   1/7/2023           95  Buraidah  coffee beans   Brazilian          30   \n",
       "7   1/8/2023           27    Medina  coffee beans   Colombian          40   \n",
       "8   1/9/2023           73      Hail  coffee beans   Guatemala          35   \n",
       "9  1/10/2023           82    Dammam  coffee beans  Costa Rica          35   \n",
       "\n",
       "   Quantity  Sales Amount  Used_Discount  Discount_Amount  Final Sales  \n",
       "0        14           560          False                0          560  \n",
       "1        17           595          False                0          595  \n",
       "2        19           665          False                0          665  \n",
       "3         1            45          False                0           45  \n",
       "4        46          1840           True              368         1472  \n",
       "5        32          1280           True              256         1024  \n",
       "6         1            30           True                6           24  \n",
       "7        33          1320          False                0         1320  \n",
       "8        47          1645          False                0         1645  \n",
       "9         4           140          False                0          140  "
      ]
     },
     "execution_count": 24,
     "metadata": {},
     "output_type": "execute_result"
    }
   ],
   "source": [
    "df.head(10)"
   ]
  },
  {
   "cell_type": "markdown",
   "metadata": {},
   "source": [
    "Filtering"
   ]
  },
  {
   "cell_type": "code",
   "execution_count": 25,
   "metadata": {},
   "outputs": [
    {
     "data": {
      "text/html": [
       "<div>\n",
       "<style scoped>\n",
       "    .dataframe tbody tr th:only-of-type {\n",
       "        vertical-align: middle;\n",
       "    }\n",
       "\n",
       "    .dataframe tbody tr th {\n",
       "        vertical-align: top;\n",
       "    }\n",
       "\n",
       "    .dataframe thead th {\n",
       "        text-align: right;\n",
       "    }\n",
       "</style>\n",
       "<table border=\"1\" class=\"dataframe\">\n",
       "  <thead>\n",
       "    <tr style=\"text-align: right;\">\n",
       "      <th></th>\n",
       "      <th>City</th>\n",
       "      <th>Category</th>\n",
       "      <th>Product</th>\n",
       "      <th>Quantity</th>\n",
       "    </tr>\n",
       "  </thead>\n",
       "  <tbody>\n",
       "    <tr>\n",
       "      <th>0</th>\n",
       "      <td>Riyadh</td>\n",
       "      <td>coffee beans</td>\n",
       "      <td>Colombian</td>\n",
       "      <td>14</td>\n",
       "    </tr>\n",
       "    <tr>\n",
       "      <th>1</th>\n",
       "      <td>Abha</td>\n",
       "      <td>coffee beans</td>\n",
       "      <td>Costa Rica</td>\n",
       "      <td>17</td>\n",
       "    </tr>\n",
       "    <tr>\n",
       "      <th>2</th>\n",
       "      <td>Tabuk</td>\n",
       "      <td>coffee beans</td>\n",
       "      <td>Costa Rica</td>\n",
       "      <td>19</td>\n",
       "    </tr>\n",
       "    <tr>\n",
       "      <th>3</th>\n",
       "      <td>Abha</td>\n",
       "      <td>coffee beans</td>\n",
       "      <td>Ethiopian</td>\n",
       "      <td>1</td>\n",
       "    </tr>\n",
       "    <tr>\n",
       "      <th>4</th>\n",
       "      <td>Hail</td>\n",
       "      <td>coffee beans</td>\n",
       "      <td>Colombian</td>\n",
       "      <td>46</td>\n",
       "    </tr>\n",
       "  </tbody>\n",
       "</table>\n",
       "</div>"
      ],
      "text/plain": [
       "     City      Category     Product  Quantity\n",
       "0  Riyadh  coffee beans   Colombian        14\n",
       "1    Abha  coffee beans  Costa Rica        17\n",
       "2   Tabuk  coffee beans  Costa Rica        19\n",
       "3    Abha  coffee beans   Ethiopian         1\n",
       "4    Hail  coffee beans   Colombian        46"
      ]
     },
     "execution_count": 25,
     "metadata": {},
     "output_type": "execute_result"
    }
   ],
   "source": [
    "df.filter([\"City\", \"Category\", \"Product\", \"Quantity\"]).head()"
   ]
  },
  {
   "cell_type": "markdown",
   "metadata": {},
   "source": [
    "Sorting"
   ]
  },
  {
   "cell_type": "code",
   "execution_count": 26,
   "metadata": {},
   "outputs": [
    {
     "data": {
      "text/html": [
       "<div>\n",
       "<style scoped>\n",
       "    .dataframe tbody tr th:only-of-type {\n",
       "        vertical-align: middle;\n",
       "    }\n",
       "\n",
       "    .dataframe tbody tr th {\n",
       "        vertical-align: top;\n",
       "    }\n",
       "\n",
       "    .dataframe thead th {\n",
       "        text-align: right;\n",
       "    }\n",
       "</style>\n",
       "<table border=\"1\" class=\"dataframe\">\n",
       "  <thead>\n",
       "    <tr style=\"text-align: right;\">\n",
       "      <th></th>\n",
       "      <th>Date</th>\n",
       "      <th>Customer_ID</th>\n",
       "      <th>City</th>\n",
       "      <th>Category</th>\n",
       "      <th>Product</th>\n",
       "      <th>Unit Price</th>\n",
       "      <th>Quantity</th>\n",
       "      <th>Sales Amount</th>\n",
       "      <th>Used_Discount</th>\n",
       "      <th>Discount_Amount</th>\n",
       "      <th>Final Sales</th>\n",
       "    </tr>\n",
       "  </thead>\n",
       "  <tbody>\n",
       "    <tr>\n",
       "      <th>15</th>\n",
       "      <td>1/16/2023</td>\n",
       "      <td>36</td>\n",
       "      <td>Jeddah</td>\n",
       "      <td>coffee beans</td>\n",
       "      <td>Ethiopian</td>\n",
       "      <td>45</td>\n",
       "      <td>49</td>\n",
       "      <td>2205</td>\n",
       "      <td>True</td>\n",
       "      <td>441</td>\n",
       "      <td>1764</td>\n",
       "    </tr>\n",
       "    <tr>\n",
       "      <th>355</th>\n",
       "      <td>12/22/2023</td>\n",
       "      <td>31</td>\n",
       "      <td>Buraidah</td>\n",
       "      <td>coffee beans</td>\n",
       "      <td>Brazilian</td>\n",
       "      <td>30</td>\n",
       "      <td>49</td>\n",
       "      <td>1470</td>\n",
       "      <td>False</td>\n",
       "      <td>0</td>\n",
       "      <td>1470</td>\n",
       "    </tr>\n",
       "    <tr>\n",
       "      <th>577</th>\n",
       "      <td>7/31/2024</td>\n",
       "      <td>65</td>\n",
       "      <td>Dammam</td>\n",
       "      <td>coffee beans</td>\n",
       "      <td>Colombian</td>\n",
       "      <td>40</td>\n",
       "      <td>49</td>\n",
       "      <td>1960</td>\n",
       "      <td>True</td>\n",
       "      <td>392</td>\n",
       "      <td>1568</td>\n",
       "    </tr>\n",
       "    <tr>\n",
       "      <th>149</th>\n",
       "      <td>5/30/2023</td>\n",
       "      <td>4</td>\n",
       "      <td>Abha</td>\n",
       "      <td>coffee beans</td>\n",
       "      <td>Costa Rica</td>\n",
       "      <td>35</td>\n",
       "      <td>49</td>\n",
       "      <td>1715</td>\n",
       "      <td>False</td>\n",
       "      <td>0</td>\n",
       "      <td>1715</td>\n",
       "    </tr>\n",
       "    <tr>\n",
       "      <th>696</th>\n",
       "      <td>11/27/2024</td>\n",
       "      <td>80</td>\n",
       "      <td>Buraidah</td>\n",
       "      <td>coffee beans</td>\n",
       "      <td>Colombian</td>\n",
       "      <td>40</td>\n",
       "      <td>49</td>\n",
       "      <td>1960</td>\n",
       "      <td>True</td>\n",
       "      <td>392</td>\n",
       "      <td>1568</td>\n",
       "    </tr>\n",
       "  </tbody>\n",
       "</table>\n",
       "</div>"
      ],
      "text/plain": [
       "           Date  Customer_ID      City      Category     Product  Unit Price  \\\n",
       "15    1/16/2023           36    Jeddah  coffee beans   Ethiopian          45   \n",
       "355  12/22/2023           31  Buraidah  coffee beans   Brazilian          30   \n",
       "577   7/31/2024           65    Dammam  coffee beans   Colombian          40   \n",
       "149   5/30/2023            4      Abha  coffee beans  Costa Rica          35   \n",
       "696  11/27/2024           80  Buraidah  coffee beans   Colombian          40   \n",
       "\n",
       "     Quantity  Sales Amount  Used_Discount  Discount_Amount  Final Sales  \n",
       "15         49          2205           True              441         1764  \n",
       "355        49          1470          False                0         1470  \n",
       "577        49          1960           True              392         1568  \n",
       "149        49          1715          False                0         1715  \n",
       "696        49          1960           True              392         1568  "
      ]
     },
     "execution_count": 26,
     "metadata": {},
     "output_type": "execute_result"
    }
   ],
   "source": [
    "df.sort_values(\"Quantity\", axis=0, ascending=False, inplace=True, na_position=\"last\")\n",
    "df.head()\n"
   ]
  },
  {
   "cell_type": "markdown",
   "metadata": {},
   "source": [
    "Grouping"
   ]
  },
  {
   "cell_type": "code",
   "execution_count": 27,
   "metadata": {},
   "outputs": [
    {
     "data": {
      "text/plain": [
       "City\n",
       "Abha        52831\n",
       "Buraidah    56875\n",
       "Dammam      59975\n",
       "Hail        77257\n",
       "Jeddah      72048\n",
       "Khobar      59989\n",
       "Mecca       66420\n",
       "Medina      64813\n",
       "Riyadh      68421\n",
       "Tabuk       51019\n",
       "Name: Final Sales, dtype: int64"
      ]
     },
     "execution_count": 27,
     "metadata": {},
     "output_type": "execute_result"
    }
   ],
   "source": [
    "grp1 = df.groupby('City')\n",
    "result = grp1['Final Sales'].aggregate('sum')\n",
    "result\n"
   ]
  },
  {
   "cell_type": "markdown",
   "metadata": {},
   "source": [
    "# Load Dataset Baru"
   ]
  },
  {
   "cell_type": "code",
   "execution_count": 28,
   "metadata": {},
   "outputs": [],
   "source": [
    "df = pd.read_csv('students.csv')"
   ]
  },
  {
   "cell_type": "markdown",
   "metadata": {},
   "source": [
    "## Cleaning Data"
   ]
  },
  {
   "cell_type": "code",
   "execution_count": 29,
   "metadata": {},
   "outputs": [
    {
     "name": "stdout",
     "output_type": "stream",
     "text": [
      "<class 'pandas.core.frame.DataFrame'>\n",
      "RangeIndex: 1000 entries, 0 to 999\n",
      "Data columns (total 9 columns):\n",
      " #   Column                       Non-Null Count  Dtype  \n",
      "---  ------                       --------------  -----  \n",
      " 0   gender                       1000 non-null   object \n",
      " 1   race/ethnicity               1000 non-null   object \n",
      " 2   parental level of education  1000 non-null   object \n",
      " 3   lunch                        975 non-null    object \n",
      " 4   test preparation course      1000 non-null   object \n",
      " 5   math score                   1000 non-null   int64  \n",
      " 6   reading score                976 non-null    float64\n",
      " 7   writing score                1000 non-null   int64  \n",
      " 8   grade                        985 non-null    float64\n",
      "dtypes: float64(2), int64(2), object(5)\n",
      "memory usage: 70.4+ KB\n"
     ]
    }
   ],
   "source": [
    "df.info()"
   ]
  },
  {
   "cell_type": "code",
   "execution_count": 30,
   "metadata": {},
   "outputs": [
    {
     "data": {
      "text/plain": [
       "gender                          0\n",
       "race/ethnicity                  0\n",
       "parental level of education     0\n",
       "lunch                          25\n",
       "test preparation course         0\n",
       "math score                      0\n",
       "reading score                  24\n",
       "writing score                   0\n",
       "grade                          15\n",
       "dtype: int64"
      ]
     },
     "execution_count": 30,
     "metadata": {},
     "output_type": "execute_result"
    }
   ],
   "source": [
    "df.isnull().sum()"
   ]
  },
  {
   "cell_type": "code",
   "execution_count": 31,
   "metadata": {},
   "outputs": [
    {
     "name": "stderr",
     "output_type": "stream",
     "text": [
      "C:\\Users\\alfth\\AppData\\Local\\Temp\\ipykernel_29264\\3755162539.py:1: FutureWarning: A value is trying to be set on a copy of a DataFrame or Series through chained assignment using an inplace method.\n",
      "The behavior will change in pandas 3.0. This inplace method will never work because the intermediate object on which we are setting values always behaves as a copy.\n",
      "\n",
      "For example, when doing 'df[col].method(value, inplace=True)', try using 'df.method({col: value}, inplace=True)' or df[col] = df[col].method(value) instead, to perform the operation inplace on the original object.\n",
      "\n",
      "\n",
      "  df['lunch'].fillna(df['lunch'].mode()[0], inplace=True)\n"
     ]
    }
   ],
   "source": [
    "df['lunch'].fillna(df['lunch'].mode()[0], inplace=True)\n"
   ]
  },
  {
   "cell_type": "code",
   "execution_count": 32,
   "metadata": {},
   "outputs": [
    {
     "name": "stderr",
     "output_type": "stream",
     "text": [
      "C:\\Users\\alfth\\AppData\\Local\\Temp\\ipykernel_29264\\596627207.py:1: FutureWarning: A value is trying to be set on a copy of a DataFrame or Series through chained assignment using an inplace method.\n",
      "The behavior will change in pandas 3.0. This inplace method will never work because the intermediate object on which we are setting values always behaves as a copy.\n",
      "\n",
      "For example, when doing 'df[col].method(value, inplace=True)', try using 'df.method({col: value}, inplace=True)' or df[col] = df[col].method(value) instead, to perform the operation inplace on the original object.\n",
      "\n",
      "\n",
      "  df['reading score'].fillna(df['reading score'].mean(), inplace=True)\n"
     ]
    }
   ],
   "source": [
    "df['reading score'].fillna(df['reading score'].mean(), inplace=True)"
   ]
  },
  {
   "cell_type": "code",
   "execution_count": 38,
   "metadata": {},
   "outputs": [
    {
     "name": "stderr",
     "output_type": "stream",
     "text": [
      "C:\\Users\\alfth\\AppData\\Local\\Temp\\ipykernel_29264\\3620260582.py:1: FutureWarning: A value is trying to be set on a copy of a DataFrame or Series through chained assignment using an inplace method.\n",
      "The behavior will change in pandas 3.0. This inplace method will never work because the intermediate object on which we are setting values always behaves as a copy.\n",
      "\n",
      "For example, when doing 'df[col].method(value, inplace=True)', try using 'df.method({col: value}, inplace=True)' or df[col] = df[col].method(value) instead, to perform the operation inplace on the original object.\n",
      "\n",
      "\n",
      "  df['grade'].fillna(df['grade'].median(), inplace=True)\n"
     ]
    }
   ],
   "source": [
    "df['grade'].fillna(df['grade'].median(), inplace=True)"
   ]
  },
  {
   "cell_type": "code",
   "execution_count": 40,
   "metadata": {},
   "outputs": [
    {
     "name": "stdout",
     "output_type": "stream",
     "text": [
      "<class 'pandas.core.frame.DataFrame'>\n",
      "RangeIndex: 1000 entries, 0 to 999\n",
      "Data columns (total 9 columns):\n",
      " #   Column                       Non-Null Count  Dtype  \n",
      "---  ------                       --------------  -----  \n",
      " 0   gender                       1000 non-null   object \n",
      " 1   race/ethnicity               1000 non-null   object \n",
      " 2   parental level of education  1000 non-null   object \n",
      " 3   lunch                        1000 non-null   object \n",
      " 4   test preparation course      1000 non-null   object \n",
      " 5   math score                   1000 non-null   int64  \n",
      " 6   reading score                1000 non-null   float64\n",
      " 7   writing score                1000 non-null   int64  \n",
      " 8   grade                        1000 non-null   float64\n",
      "dtypes: float64(2), int64(2), object(5)\n",
      "memory usage: 70.4+ KB\n"
     ]
    }
   ],
   "source": [
    "df.info()"
   ]
  },
  {
   "cell_type": "markdown",
   "metadata": {},
   "source": [
    "Teknik lain"
   ]
  },
  {
   "cell_type": "code",
   "execution_count": 41,
   "metadata": {},
   "outputs": [],
   "source": [
    "df = pd.read_csv('students.csv')"
   ]
  },
  {
   "cell_type": "code",
   "execution_count": 42,
   "metadata": {},
   "outputs": [
    {
     "name": "stdout",
     "output_type": "stream",
     "text": [
      "<class 'pandas.core.frame.DataFrame'>\n",
      "RangeIndex: 1000 entries, 0 to 999\n",
      "Data columns (total 9 columns):\n",
      " #   Column                       Non-Null Count  Dtype  \n",
      "---  ------                       --------------  -----  \n",
      " 0   gender                       1000 non-null   object \n",
      " 1   race/ethnicity               1000 non-null   object \n",
      " 2   parental level of education  1000 non-null   object \n",
      " 3   lunch                        975 non-null    object \n",
      " 4   test preparation course      1000 non-null   object \n",
      " 5   math score                   1000 non-null   int64  \n",
      " 6   reading score                976 non-null    float64\n",
      " 7   writing score                1000 non-null   int64  \n",
      " 8   grade                        985 non-null    float64\n",
      "dtypes: float64(2), int64(2), object(5)\n",
      "memory usage: 70.4+ KB\n"
     ]
    }
   ],
   "source": [
    "df.info()"
   ]
  },
  {
   "cell_type": "markdown",
   "metadata": {},
   "source": [
    "Interpolation"
   ]
  },
  {
   "cell_type": "code",
   "execution_count": 43,
   "metadata": {},
   "outputs": [
    {
     "name": "stderr",
     "output_type": "stream",
     "text": [
      "C:\\Users\\alfth\\AppData\\Local\\Temp\\ipykernel_29264\\1464395751.py:1: FutureWarning: A value is trying to be set on a copy of a DataFrame or Series through chained assignment using an inplace method.\n",
      "The behavior will change in pandas 3.0. This inplace method will never work because the intermediate object on which we are setting values always behaves as a copy.\n",
      "\n",
      "For example, when doing 'df[col].method(value, inplace=True)', try using 'df.method({col: value}, inplace=True)' or df[col] = df[col].method(value) instead, to perform the operation inplace on the original object.\n",
      "\n",
      "\n",
      "  df['lunch'].interpolate(methode='linear', inplace=True)\n",
      "C:\\Users\\alfth\\AppData\\Local\\Temp\\ipykernel_29264\\1464395751.py:1: FutureWarning: Series.interpolate with object dtype is deprecated and will raise in a future version. Call obj.infer_objects(copy=False) before interpolating instead.\n",
      "  df['lunch'].interpolate(methode='linear', inplace=True)\n"
     ]
    }
   ],
   "source": [
    "df['lunch'].interpolate(methode='linear', inplace=True)\n"
   ]
  },
  {
   "cell_type": "code",
   "execution_count": 46,
   "metadata": {},
   "outputs": [
    {
     "name": "stderr",
     "output_type": "stream",
     "text": [
      "C:\\Users\\alfth\\AppData\\Local\\Temp\\ipykernel_29264\\3555708803.py:2: FutureWarning: Series.fillna with 'method' is deprecated and will raise in a future version. Use obj.ffill() or obj.bfill() instead.\n",
      "  df['reading score'].fillna(method= 'bfill', inplace = True)\n",
      "C:\\Users\\alfth\\AppData\\Local\\Temp\\ipykernel_29264\\3555708803.py:6: FutureWarning: A value is trying to be set on a copy of a DataFrame or Series through chained assignment using an inplace method.\n",
      "The behavior will change in pandas 3.0. This inplace method will never work because the intermediate object on which we are setting values always behaves as a copy.\n",
      "\n",
      "For example, when doing 'df[col].method(value, inplace=True)', try using 'df.method({col: value}, inplace=True)' or df[col] = df[col].method(value) instead, to perform the operation inplace on the original object.\n",
      "\n",
      "\n",
      "  df['grade'].fillna(method= 'bfill', inplace = True)\n",
      "C:\\Users\\alfth\\AppData\\Local\\Temp\\ipykernel_29264\\3555708803.py:6: FutureWarning: Series.fillna with 'method' is deprecated and will raise in a future version. Use obj.ffill() or obj.bfill() instead.\n",
      "  df['grade'].fillna(method= 'bfill', inplace = True)\n"
     ]
    }
   ],
   "source": [
    "\n",
    "#backwardfill the missing value\n",
    "df['reading score'].fillna(method= 'bfill', inplace = True)\n",
    "\n",
    "\n",
    "#forwardfill the missing value\n",
    "df['grade'].fillna(method= 'bfill', inplace = True)\n"
   ]
  },
  {
   "cell_type": "markdown",
   "metadata": {},
   "source": [
    "Dropping"
   ]
  },
  {
   "cell_type": "code",
   "execution_count": 47,
   "metadata": {},
   "outputs": [],
   "source": [
    "df.dropna(inplace=True)"
   ]
  }
 ],
 "metadata": {
  "kernelspec": {
   "display_name": ".venv",
   "language": "python",
   "name": "python3"
  },
  "language_info": {
   "codemirror_mode": {
    "name": "ipython",
    "version": 3
   },
   "file_extension": ".py",
   "mimetype": "text/x-python",
   "name": "python",
   "nbconvert_exporter": "python",
   "pygments_lexer": "ipython3",
   "version": "3.12.2"
  }
 },
 "nbformat": 4,
 "nbformat_minor": 2
}
